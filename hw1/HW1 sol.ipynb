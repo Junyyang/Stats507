{
 "cells": [
  {
   "cell_type": "markdown",
   "id": "eff708e6",
   "metadata": {},
   "source": [
    "STATS 507\n",
    "Junyuan Yang\n",
    "HW1"
   ]
  },
  {
   "cell_type": "markdown",
   "id": "61c41118",
   "metadata": {},
   "source": [
    "---\n",
    "## Question 0"
   ]
  },
  {
   "cell_type": "markdown",
   "id": "d41ae886",
   "metadata": {},
   "source": [
    "This is *question 0* for [problem set 1](https://jbhender.github.io/Stats507/F21/ps/ps1.html) of [Stats 507](https://jbhender.github.io/Stats507/F21/)\n",
    "\n",
    "The next question is about the **Fibonacci sequence**, $F_n = F_{n-2} +F_{n-1}$. In part **a** we will define a Pythopn function `fib_rec()`.\n",
    "\n",
    "Below is a ...\n",
    "\n",
    "### Level 3 Header\n",
    "\n",
    "Next, we can make a bulleted list:\n",
    "* Item 1\n",
    "    - detail 1\n",
    "    - detail 2\n",
    "* Item 2\n",
    "\n",
    "Finally, we can make an enumerated list:\n",
    "1. Item 1\n",
    "2. Item 2\n",
    "3. Item 3"
   ]
  },
  {
   "cell_type": "code",
   "execution_count": 1,
   "id": "0e85eaf3",
   "metadata": {},
   "outputs": [],
   "source": [
    "import math\n",
    "import numpy as np\n",
    "import pandas as pd\n",
    "from timeit import Timer\n",
    "from collections import defaultdict\n",
    "\n",
    "import scipy.stats as stats\n",
    "from scipy.stats import beta "
   ]
  },
  {
   "cell_type": "markdown",
   "id": "ee351732",
   "metadata": {},
   "source": [
    "---\n",
    "## Question 1"
   ]
  },
  {
   "cell_type": "code",
   "execution_count": 2,
   "id": "8466da5e",
   "metadata": {},
   "outputs": [],
   "source": [
    "# a. fib_rec()\n",
    "def fib_rec(n, a = 0, b = 1):\n",
    "    if n >= 2:\n",
    "        return fib_rec(n-2)+fib_rec(n-1)  # calling for two times!!!!\n",
    "    # time consuming!!!!\n",
    "    elif n == 0:\n",
    "        return a #  F_0 = a\n",
    "    elif n == 1:\n",
    "        return b #  F_1 = b"
   ]
  },
  {
   "cell_type": "code",
   "execution_count": 3,
   "id": "d369fb3a",
   "metadata": {},
   "outputs": [],
   "source": [
    "# a new attempt!!\n",
    "def fib_rec_mod(n, a = 0, b = 1):\n",
    "    if n == 0:\n",
    "        return a #  F_0 = a\n",
    "    elif n == 1:\n",
    "        return b #  F_1 = b\n",
    "    else:\n",
    "        a, b = b, a+b\n",
    "        return(fib_rec(n-1, a, b))"
   ]
  },
  {
   "cell_type": "code",
   "execution_count": 4,
   "id": "90fdd40f",
   "metadata": {},
   "outputs": [],
   "source": [
    "assert(fib_rec(7) == 13)\n",
    "assert(fib_rec(11) == 89)\n",
    "assert(fib_rec(13) == 233)"
   ]
  },
  {
   "cell_type": "code",
   "execution_count": 5,
   "id": "e11404c5",
   "metadata": {},
   "outputs": [
    {
     "name": "stdout",
     "output_type": "stream",
     "text": [
      "13\n",
      "89\n",
      "233\n"
     ]
    }
   ],
   "source": [
    "print(fib_rec(7))\n",
    "print(fib_rec(11))\n",
    "print(fib_rec(13))"
   ]
  },
  {
   "cell_type": "code",
   "execution_count": 15,
   "id": "5db43866",
   "metadata": {},
   "outputs": [],
   "source": [
    "# b. fib_for()\n",
    "def fib_for(n, a = 0, b = 1):\n",
    "    pre = a #  F_0 = a\n",
    "    cur = b #  F_1 = b\n",
    "    try:\n",
    "        n >= 2     \n",
    "        for i in range(n - 1):\n",
    "            new = cur + pre # Fn−2+Fn−1\n",
    "            pre = cur\n",
    "            cur = new\n",
    "        return new\n",
    "    except:\n",
    "        print(\"n should be greater than 1\")"
   ]
  },
  {
   "cell_type": "code",
   "execution_count": 16,
   "id": "e2fd1925",
   "metadata": {},
   "outputs": [
    {
     "name": "stdout",
     "output_type": "stream",
     "text": [
      "13\n",
      "89\n",
      "233\n"
     ]
    }
   ],
   "source": [
    "print(fib_for(7))\n",
    "print(fib_for(11))\n",
    "print(fib_for(13))"
   ]
  },
  {
   "cell_type": "code",
   "execution_count": 14,
   "id": "1fc6ba0a",
   "metadata": {},
   "outputs": [],
   "source": [
    "# c. fib_whl()\n",
    "def fib_whl(n, a = 0, b = 1):\n",
    "    pre = a #  F_0 = a\n",
    "    cur = b #  F_1 = b\n",
    "    try:\n",
    "        n >= 2     \n",
    "        while(n>=2):\n",
    "            new = cur + pre # Fn−2+Fn−1\n",
    "            pre = cur\n",
    "            cur = new\n",
    "            n -= 1\n",
    "        return new\n",
    "    except:\n",
    "        return None\n",
    "#         print(\"n should be greater than 1\")"
   ]
  },
  {
   "cell_type": "code",
   "execution_count": 9,
   "id": "6fc242cf",
   "metadata": {},
   "outputs": [
    {
     "name": "stdout",
     "output_type": "stream",
     "text": [
      "13\n",
      "89\n",
      "233\n"
     ]
    }
   ],
   "source": [
    "print(fib_whl(7))\n",
    "print(fib_whl(11))\n",
    "print(fib_whl(13))"
   ]
  },
  {
   "cell_type": "code",
   "execution_count": 8,
   "id": "f3ebb94c",
   "metadata": {},
   "outputs": [],
   "source": [
    "# d. fib_rnd()\n",
    "def fib_rnd(n, a = 0, b = 1):\n",
    "    phi = (1+np.sqrt(5))/2\n",
    "    try:\n",
    "        n >= 0\n",
    "        result = round( phi**n / np.sqrt(5) )\n",
    "        return result\n",
    "    except:\n",
    "        print(\"n should be greater than 0\")"
   ]
  },
  {
   "cell_type": "code",
   "execution_count": 9,
   "id": "2f9d0563",
   "metadata": {},
   "outputs": [
    {
     "name": "stdout",
     "output_type": "stream",
     "text": [
      "13\n",
      "89\n",
      "233\n"
     ]
    }
   ],
   "source": [
    "print(fib_rnd(7))\n",
    "print(fib_rnd(11))\n",
    "print(fib_rnd(13))"
   ]
  },
  {
   "cell_type": "code",
   "execution_count": 10,
   "id": "999de2f9",
   "metadata": {},
   "outputs": [],
   "source": [
    "# d. fib_flr()\n",
    "def fib_flr(n, a = 0, b = 1):\n",
    "    phi = (1+np.sqrt(5))/2\n",
    "    try:\n",
    "        n >= 0\n",
    "        result = math.floor(phi**n / np.sqrt(5) + 1/2)\n",
    "        return result\n",
    "    except:\n",
    "        print(\"n should be greater than 0\")"
   ]
  },
  {
   "cell_type": "code",
   "execution_count": 11,
   "id": "62230e58",
   "metadata": {},
   "outputs": [
    {
     "name": "stdout",
     "output_type": "stream",
     "text": [
      "13\n",
      "89\n",
      "233\n"
     ]
    }
   ],
   "source": [
    "print(fib_flr(7))\n",
    "print(fib_flr(11))\n",
    "print(fib_flr(13))"
   ]
  },
  {
   "cell_type": "code",
   "execution_count": 12,
   "id": "51b67666",
   "metadata": {},
   "outputs": [
    {
     "data": {
      "text/html": [
       "<div>\n",
       "<style scoped>\n",
       "    .dataframe tbody tr th:only-of-type {\n",
       "        vertical-align: middle;\n",
       "    }\n",
       "\n",
       "    .dataframe tbody tr th {\n",
       "        vertical-align: top;\n",
       "    }\n",
       "\n",
       "    .dataframe thead th {\n",
       "        text-align: right;\n",
       "    }\n",
       "</style>\n",
       "<table border=\"1\" class=\"dataframe\">\n",
       "  <thead>\n",
       "    <tr style=\"text-align: right;\">\n",
       "      <th></th>\n",
       "      <th>Function</th>\n",
       "      <th>min, s</th>\n",
       "      <th>median, s</th>\n",
       "      <th>mean, s</th>\n",
       "    </tr>\n",
       "  </thead>\n",
       "  <tbody>\n",
       "    <tr>\n",
       "      <th>0</th>\n",
       "      <td>fib_rec</td>\n",
       "      <td>10.677861</td>\n",
       "      <td>10.693825</td>\n",
       "      <td>11.093523</td>\n",
       "    </tr>\n",
       "    <tr>\n",
       "      <th>1</th>\n",
       "      <td>fib_for</td>\n",
       "      <td>0.000035</td>\n",
       "      <td>0.000036</td>\n",
       "      <td>0.000039</td>\n",
       "    </tr>\n",
       "    <tr>\n",
       "      <th>2</th>\n",
       "      <td>fib_whl</td>\n",
       "      <td>0.000017</td>\n",
       "      <td>0.000017</td>\n",
       "      <td>0.000036</td>\n",
       "    </tr>\n",
       "    <tr>\n",
       "      <th>3</th>\n",
       "      <td>fib_rnd</td>\n",
       "      <td>0.000047</td>\n",
       "      <td>0.000047</td>\n",
       "      <td>0.000051</td>\n",
       "    </tr>\n",
       "    <tr>\n",
       "      <th>4</th>\n",
       "      <td>fib_flr</td>\n",
       "      <td>0.000036</td>\n",
       "      <td>0.000037</td>\n",
       "      <td>0.000039</td>\n",
       "    </tr>\n",
       "  </tbody>\n",
       "</table>\n",
       "</div>"
      ],
      "text/plain": [
       "  Function     min, s  median, s    mean, s\n",
       "0  fib_rec  10.677861  10.693825  11.093523\n",
       "1  fib_for   0.000035   0.000036   0.000039\n",
       "2  fib_whl   0.000017   0.000017   0.000036\n",
       "3  fib_rnd   0.000047   0.000047   0.000051\n",
       "4  fib_flr   0.000036   0.000037   0.000039"
      ]
     },
     "execution_count": 12,
     "metadata": {},
     "output_type": "execute_result"
    }
   ],
   "source": [
    "# f. time comsuming comparison\n",
    "n = 30\n",
    "a = 0\n",
    "b = 1\n",
    "\n",
    "# timing with ndarray input: -------------------------------------------------\n",
    "a = np.asarray(a)\n",
    "b = np.asarray(b)\n",
    "n = np.asarray(n)\n",
    "time_nda = defaultdict(list)\n",
    "\n",
    "for f in [fib_rec, fib_for, fib_whl, fib_rnd, fib_flr]:\n",
    "    \n",
    "    tm_list = []\n",
    "\n",
    "    t = Timer('f(n, a, b)', globals={'f': f, 'n': n, 'a': a, 'b': b})\n",
    "    tm = t.repeat(repeat=3, number=10)\n",
    "\n",
    "    time_nda['Function'].append(f.__name__)\n",
    "    time_nda['min, s'].append(np.min(tm))\n",
    "    time_nda['median, s'].append(np.median(tm))\n",
    "    time_nda['mean, s'].append(np.mean(tm))\n",
    "\n",
    "time_nda = pd.DataFrame(time_nda)\n",
    "for c, d in zip(time_nda.columns, time_nda.dtypes):\n",
    "    if d == np.dtype('float64'):\n",
    "        time_nda[c] = time_nda[c].map(lambda x: '%5.6f' % x)\n",
    "time_nda"
   ]
  },
  {
   "cell_type": "markdown",
   "id": "80cc6a1f",
   "metadata": {},
   "source": [
    "---\n",
    "## Question 2 - Pascal’s Triangle"
   ]
  },
  {
   "cell_type": "code",
   "execution_count": 13,
   "id": "7b1ba458",
   "metadata": {},
   "outputs": [],
   "source": [
    "def cal_PT_row(n):\n",
    "    nk_array = np.asarray([1])\n",
    "    for k in range(1,n+1):\n",
    "        current = int( nk_array[k-1]*(n+1-k)/k )\n",
    "        nk_array = np.concatenate( (nk_array, np.asarray([current])), axis=0)\n",
    "    return nk_array"
   ]
  },
  {
   "cell_type": "code",
   "execution_count": 14,
   "id": "abef324e",
   "metadata": {},
   "outputs": [
    {
     "name": "stdout",
     "output_type": "stream",
     "text": [
      "[ 1  5 10 10  5  1]\n"
     ]
    }
   ],
   "source": [
    "PT_row = cal_PT_row(5)\n",
    "print(PT_row)"
   ]
  },
  {
   "cell_type": "code",
   "execution_count": 15,
   "id": "934b7429",
   "metadata": {},
   "outputs": [],
   "source": [
    "# def print_PT(n):\n",
    "#     PT_matrix = np.expand_dims( np.zeros(n), axis = 0)\n",
    "    \n",
    "#     PT_matrix[0,0] = 1\n",
    "    \n",
    "#     for k in range(2, n+1):\n",
    "        \n",
    "#         row_array = np.expand_dims( np.zeros(n), axis = 0)\n",
    "#         row_array[0,0] = 1\n",
    "#         row_array[0,k-1] = 1\n",
    "\n",
    "#         for i in range (1, k-1):\n",
    "#             pre_row = PT_matrix[k-2,:]       \n",
    "#             row_array[0,i] = pre_row[i-1] + pre_row[i]\n",
    "#         PT_matrix = np.concatenate( (PT_matrix , row_array), axis = 0)\n",
    "#     return PT_matrix\n",
    "\n",
    "\n",
    "# PT_matrix = print_PT(11)\n",
    "# print(PT_matrix)"
   ]
  },
  {
   "cell_type": "code",
   "execution_count": 16,
   "id": "4ef4e724",
   "metadata": {},
   "outputs": [
    {
     "name": "stdout",
     "output_type": "stream",
     "text": [
      "                         1                          \n",
      "                       1   1                        \n",
      "                     1   2   1                      \n",
      "                   1   3   3   1                    \n",
      "                 1   4   6   4   1                  \n",
      "              1   5   10   10   5   1               \n",
      "            1   6   15   20   15   6   1            \n",
      "         1   7   21   35   35   21   7   1          \n",
      "       1   8   28   56   70   56   28   8   1       \n",
      "   1   9   36   84   126   126   84   36   9   1    \n",
      "1   10   45   120   210   252   210   120   45   10   1\n"
     ]
    }
   ],
   "source": [
    "def Num_to_Str(row):\n",
    "    row_list = []\n",
    "    for i in range(len(row)):\n",
    "        row_list.append(str( row[i] ))\n",
    "    row_string = '   '.join(row_list)\n",
    "    return row_string\n",
    "\n",
    "def print_PT(n):\n",
    "    width = 5*n + 2\n",
    "    \n",
    "    for i in range(0, n+1):\n",
    "        row = cal_PT_row(i)\n",
    "        print(Num_to_Str(row).center(width))\n",
    "\n",
    "print_PT(10)"
   ]
  },
  {
   "cell_type": "markdown",
   "id": "ce4187f6",
   "metadata": {},
   "source": [
    "---\n",
    "### Question 3 Statistics 101"
   ]
  },
  {
   "cell_type": "code",
   "execution_count": 17,
   "id": "8d4b1b24",
   "metadata": {},
   "outputs": [
    {
     "data": {
      "text/plain": [
       "{'est': None, 'lwr': None, 'upr': None, 'level': None}"
      ]
     },
     "execution_count": 17,
     "metadata": {},
     "output_type": "execute_result"
    }
   ],
   "source": [
    "dic = dict.fromkeys(['est', 'lwr', 'upr', 'level'])\n",
    "dic"
   ]
  },
  {
   "cell_type": "code",
   "execution_count": 39,
   "id": "fc20e20d",
   "metadata": {},
   "outputs": [],
   "source": [
    "# Pr3. a\n",
    "def point_interv_est(\n",
    "    data, \n",
    "    level, \n",
    "    ci_format=\"{mean:.2f} [{level:.0f}%: ({lwr:.2f}, {upr:.2f})]\"\n",
    "):\n",
    "    \n",
    "    dic = dict.fromkeys(['est', 'lwr', 'upr', 'level'])\n",
    "    try:\n",
    "        type(data) == np.ndarray\n",
    "        \n",
    "        if ci_format == None:\n",
    "            return dic\n",
    "        else:     \n",
    "            # z = stats.t.ppf(level, len(data)) # confidence level\n",
    "            z = stats.norm.ppf(1 - (1 - level) / 2)\n",
    "            x_mean = np.mean(data)\n",
    "            # se = np.std(data)\n",
    "            se = np.std(x, ddof=1) / np.sqrt(x.size)\n",
    "            lwr, upr = x_mean - z * se , x_mean + z * se\n",
    "            \n",
    "            out = {\"mean\": x_mean, \"level\": 100 * level, \"lwr\": lwr, \"upr\": upr}\n",
    "            result = ci_format.format(out)            \n",
    "            return result\n",
    "        \n",
    "    except:\n",
    "        print(\"data should be a numpy array\")\n",
    "        return 0"
   ]
  },
  {
   "cell_type": "code",
   "execution_count": 80,
   "id": "1ce2562c",
   "metadata": {},
   "outputs": [],
   "source": [
    "# Pro3. b\n",
    "\n",
    "# n trials\n",
    "# x be the number of successes in thes trials\n",
    "\n",
    "def point_interv_est2(data, level, method, ci_format='string'):\n",
    "    dic = dict.fromkeys(['est', 'lwr', 'upr', 'level'])\n",
    "    try:\n",
    "        type(data) == np.ndarray\n",
    "        \n",
    "        if ci_format == None:\n",
    "            return dic\n",
    "        else:     \n",
    "            z = stats.t.ppf(level, len(data)) #  Gaussian multiplier\n",
    "            x_mean = np.mean(data)\n",
    "            se = np.std(data)\n",
    "            string = \"{:.2f} [{:.2f}% CI: ({:.3f} , {:.3f})]\"\n",
    "            n = len(data)\n",
    "            x = len(data.nonzero()[0])  # number of nonzero elements\n",
    "            p_hat = x/n\n",
    "            \n",
    "            # ====================\n",
    "            # Normal theory\n",
    "            if method == 'Normal theory':\n",
    "                point_est = x_mean\n",
    "                lwr, upr = x_mean - z * se , x_mean + z * se\n",
    "\n",
    "                result = string.format(point_est, level, lwr, upr)\n",
    "                return result\n",
    "            \n",
    "            # ====================\n",
    "            # Normal approximation\n",
    "            if method == 'Normal approximation':\n",
    "                p_hat = x/n\n",
    "                if n*p_hat <12 or n*(1-p_hat) < 12:\n",
    "                    print(\"warning that approximation could not be conventionally considered adequate\")\n",
    "                else:\n",
    "                    point_est = p_hat\n",
    "                    lwr = p_hat - z * np.sqrt(p_hat*(1-p_hat)/n) \n",
    "                    upr = p_hat + z * np.sqrt(p_hat*(1-p_hat)/n) \n",
    "            \n",
    "                    result = string.format(point_est, level, lwr, upr)\n",
    "                    return result\n",
    "                \n",
    "            # ====================\n",
    "            # Clopper_Pearson interval\n",
    "            elif method == 'Clopper_Pearson interval':\n",
    "                point_est = p_hat\n",
    "                alpha = 1- z #1- confidence\n",
    "                lwr = beta.pdf(alpha/2, x, n-x+1)\n",
    "                upr = beta.pdf(1-alpha/2, x+1, n-x)\n",
    "                \n",
    "                result = string.format(point_est, level, lwr, upr)\n",
    "                return result\n",
    "            \n",
    "            # ====================\n",
    "            # Jeffrey interval\n",
    "            elif method == \"Jeffrey interval\":\n",
    "                point_est = p_hat\n",
    "                lwr = max(0, beta.pdf(alpha/2, x +0.5, n-x+0.5) )\n",
    "                upr = min(1, beta.pdf(1 - alpha/2, x +0.5, n-x+0.5) )\n",
    "                \n",
    "                result = string.format(point_est, level, lwr, upr)\n",
    "                return result\n",
    "            \n",
    "            # ====================\n",
    "            # Agresti_Coull interval \n",
    "            elif method == \"Agresti_Coull interval\":\n",
    "                n_cur = n + z**2\n",
    "                p_cur = (x + x**2 / 2)/2\n",
    "                \n",
    "                n = n_cur\n",
    "                p_hat = p_cur\n",
    "                if n*p_hat <12 or n*(1-p_hat) < 12:\n",
    "                    print(\"warning that approximation could not be conventionally considered adequate\")\n",
    "                else:\n",
    "                    point_est = p_hat\n",
    "                    lwr = p_hat - z * np.sqrt(p_hat*(1-p_hat)/n) \n",
    "                    upr = p_hat + z * np.sqrt(p_hat*(1-p_hat)/n) \n",
    "            \n",
    "                    result = string.format(point_est, level, lwr, upr)\n",
    "                    return result\n",
    "        \n",
    "    except:\n",
    "        print(\"data should be a numpy array\")"
   ]
  },
  {
   "cell_type": "code",
   "execution_count": 81,
   "id": "f5f67703",
   "metadata": {},
   "outputs": [],
   "source": [
    "array_one = np.ones(42)\n",
    "array_zero = np.zeros(48)\n",
    "data_array = np.concatenate( (array_one, array_zero), axis=0)"
   ]
  },
  {
   "cell_type": "code",
   "execution_count": 82,
   "id": "ffa934fe",
   "metadata": {},
   "outputs": [
    {
     "data": {
      "text/plain": [
       "numpy.ndarray"
      ]
     },
     "execution_count": 82,
     "metadata": {},
     "output_type": "execute_result"
    }
   ],
   "source": [
    "type(data_array)"
   ]
  },
  {
   "cell_type": "code",
   "execution_count": 83,
   "id": "ce7bd518",
   "metadata": {},
   "outputs": [
    {
     "data": {
      "text/html": [
       "<div>\n",
       "<style scoped>\n",
       "    .dataframe tbody tr th:only-of-type {\n",
       "        vertical-align: middle;\n",
       "    }\n",
       "\n",
       "    .dataframe tbody tr th {\n",
       "        vertical-align: top;\n",
       "    }\n",
       "\n",
       "    .dataframe thead th {\n",
       "        text-align: right;\n",
       "    }\n",
       "</style>\n",
       "<table border=\"1\" class=\"dataframe\">\n",
       "  <thead>\n",
       "    <tr style=\"text-align: right;\">\n",
       "      <th></th>\n",
       "      <th>Methods</th>\n",
       "      <th>Point and Interval Estimates Results</th>\n",
       "    </tr>\n",
       "  </thead>\n",
       "  <tbody>\n",
       "    <tr>\n",
       "      <th>0</th>\n",
       "      <td>2</td>\n",
       "      <td>4</td>\n",
       "    </tr>\n",
       "  </tbody>\n",
       "</table>\n",
       "</div>"
      ],
      "text/plain": [
       "  Methods Point and Interval Estimates Results\n",
       "0       2                                    4"
      ]
     },
     "execution_count": 83,
     "metadata": {},
     "output_type": "execute_result"
    }
   ],
   "source": [
    "df=pd.DataFrame(columns={\"Methods\":\"\",\"Point and Interval Estimates Results\":\"\"},index=[0])\n",
    "df.loc[0]=[2,4]\n",
    "df"
   ]
  },
  {
   "cell_type": "code",
   "execution_count": 84,
   "id": "a67aa6a0",
   "metadata": {},
   "outputs": [
    {
     "name": "stdout",
     "output_type": "stream",
     "text": [
      "Confidence level is 90.00%\n",
      "data should be a numpy array\n",
      "warning that approximation could not be conventionally considered adequate\n",
      "                    Methods Point and Interval Estimates Results\n",
      "0             Normal theory    0.47 [0.90% CI: (-0.177 , 1.111)]\n",
      "1      Normal approximation     0.47 [0.90% CI: (0.399 , 0.535)]\n",
      "2  Clopper_Pearson interval     0.47 [0.90% CI: (0.000 , 0.000)]\n",
      "3          Jeffrey interval                                 None\n",
      "4    Agresti_Coull interval                                 None\n",
      "\n",
      "Confidence level is 95.00%\n",
      "data should be a numpy array\n",
      "warning that approximation could not be conventionally considered adequate\n",
      "                    Methods Point and Interval Estimates Results\n",
      "0             Normal theory    0.47 [0.95% CI: (-0.362 , 1.296)]\n",
      "1      Normal approximation     0.47 [0.95% CI: (0.379 , 0.554)]\n",
      "2  Clopper_Pearson interval     0.47 [0.95% CI: (0.000 , 0.000)]\n",
      "3          Jeffrey interval                                 None\n",
      "4    Agresti_Coull interval                                 None\n",
      "\n",
      "Confidence level is 99.00%\n",
      "data should be a numpy array\n",
      "warning that approximation could not be conventionally considered adequate\n",
      "                    Methods Point and Interval Estimates Results\n",
      "0             Normal theory    0.47 [0.99% CI: (-0.715 , 1.648)]\n",
      "1      Normal approximation     0.47 [0.99% CI: (0.342 , 0.591)]\n",
      "2  Clopper_Pearson interval     0.47 [0.99% CI: (0.000 , 0.000)]\n",
      "3          Jeffrey interval                                 None\n",
      "4    Agresti_Coull interval                                 None\n",
      "\n"
     ]
    }
   ],
   "source": [
    "df=pd.DataFrame(columns={\"Methods\":\"\",\"Point and Interval Estimates Results\":\"\"},index=[0])\n",
    "\n",
    "for level in [0.9, 0.95, 0.99]:\n",
    "    \n",
    "    print(\"Confidence level is {:.2f}%\".format(100*level) )\n",
    "    df=pd.DataFrame(columns={\"Methods\":\"\",\"Point and Interval Estimates Results\":\"\"},index=[0])\n",
    "    k = 0\n",
    "    \n",
    "    for method in ['Normal theory', 'Normal approximation', 'Clopper_Pearson interval',\\\n",
    "               \"Jeffrey interval\", \"Agresti_Coull interval\"]:\n",
    "        result = point_interv_est2(data_array, level, method)\n",
    "        df.loc[k]=[method,result]\n",
    "        k += 1\n",
    "    print(df)\n",
    "    print(\"\")"
   ]
  },
  {
   "cell_type": "code",
   "execution_count": null,
   "id": "f3ef9d1b",
   "metadata": {},
   "outputs": [],
   "source": []
  },
  {
   "cell_type": "code",
   "execution_count": null,
   "id": "890463f8",
   "metadata": {},
   "outputs": [],
   "source": []
  },
  {
   "cell_type": "code",
   "execution_count": 78,
   "id": "2dbb9000",
   "metadata": {},
   "outputs": [],
   "source": [
    "# Pro3. b\n",
    "\n",
    "# n trials\n",
    "# x be the number of successes in thes trials\n",
    "\n",
    "def point_interv_est2(data, level, method, ci_format='string'):\n",
    "    dic = dict.fromkeys(['est', 'lwr', 'upr', 'level'])\n",
    "    try:\n",
    "        type(data) == np.ndarray\n",
    "        \n",
    "        if ci_format == None:\n",
    "            return dic\n",
    "        else:   \n",
    "            \n",
    "            print(\"test 1\")\n",
    "            \n",
    "            z = stats.t.ppf(level, len(data)) #  Gaussian multiplier\n",
    "            x_mean = np.mean(data)\n",
    "            se = np.std(data)\n",
    "            \n",
    "            print(\"test 2\")\n",
    "            \n",
    "            string = \"{:.2f} [{:.2f}% CI: ({:.3f} , {:.3f})]\"\n",
    "            n = len(data)\n",
    "            x = len(data.nonzero()[0])  # number of nonzero elements\n",
    "            p_hat = x/n\n",
    "            \n",
    "            print(\"test 3\")\n",
    "            \n",
    "            # ====================\n",
    "            # Clopper_Pearson interval\n",
    "            if method == 'Clopper_Pearson interval':\n",
    "                \n",
    "                print(\"test 4\")\n",
    "                \n",
    "                alpha = 1- z #1- confidence\n",
    "                lwr = beta.pdf(alpha/2, x, n-x+1)\n",
    "                upr = beta.pdf(1-alpha/2, x+1, n-x)\n",
    "                \n",
    "                print(\"test 5\")\n",
    "                print(point_est)\n",
    "                \n",
    "                result = string.format(point_est, level, lwr, upr)\n",
    "                \n",
    "                print(\"test 6\")\n",
    "                \n",
    "                return result\n",
    "            \n",
    "        \n",
    "    except:\n",
    "        print(\"data should be a numpy array\")"
   ]
  },
  {
   "cell_type": "code",
   "execution_count": 79,
   "id": "a630de26",
   "metadata": {},
   "outputs": [
    {
     "name": "stdout",
     "output_type": "stream",
     "text": [
      "test 1\n",
      "test 2\n",
      "test 3\n",
      "test 4\n",
      "test 5\n",
      "data should be a numpy array\n",
      "<class 'numpy.ndarray'>\n"
     ]
    }
   ],
   "source": [
    " point_interv_est2(data_array, level, 'Clopper_Pearson interval')\n",
    "print(type(data_array))"
   ]
  },
  {
   "cell_type": "code",
   "execution_count": null,
   "id": "61dfcf5b",
   "metadata": {},
   "outputs": [],
   "source": []
  }
 ],
 "metadata": {
  "kernelspec": {
   "display_name": "Python 3 (ipykernel)",
   "language": "python",
   "name": "python3"
  },
  "language_info": {
   "codemirror_mode": {
    "name": "ipython",
    "version": 3
   },
   "file_extension": ".py",
   "mimetype": "text/x-python",
   "name": "python",
   "nbconvert_exporter": "python",
   "pygments_lexer": "ipython3",
   "version": "3.8.6"
  }
 },
 "nbformat": 4,
 "nbformat_minor": 5
}
