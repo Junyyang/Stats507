{
 "cells": [
  {
   "cell_type": "markdown",
   "id": "0bda23ec",
   "metadata": {},
   "source": [
    "## Extract code from PS2, Q3"
   ]
  },
  {
   "cell_type": "code",
   "execution_count": 1,
   "id": "33962a37",
   "metadata": {},
   "outputs": [],
   "source": [
    "import numpy as np\n",
    "import pandas as pd\n",
    "from timeit import Timer\n",
    "from collections import defaultdict\n",
    "import re\n",
    "np.random.seed(0)"
   ]
  },
  {
   "cell_type": "code",
   "execution_count": 2,
   "id": "8e1f09e6",
   "metadata": {},
   "outputs": [],
   "source": [
    "# ================\n",
    "# a)\n",
    "demo_1112_df = pd.read_sas(\"https://wwwn.cdc.gov/Nchs/Nhanes/2011-2012/DEMO_G.XPT\")\n",
    "demo_1314_df = pd.read_sas(\"https://wwwn.cdc.gov/Nchs/Nhanes/2013-2014/DEMO_H.XPT\")\n",
    "demo_1516_df = pd.read_sas(\"https://wwwn.cdc.gov/Nchs/Nhanes/2015-2016/DEMO_I.XPT\")\n",
    "demo_1718_df = pd.read_sas(\"https://wwwn.cdc.gov/Nchs/Nhanes/2017-2018/DEMO_J.XPT\")\n",
    "\n",
    "demo_df_list = [demo_1112_df, demo_1314_df, demo_1516_df, demo_1718_df]\n",
    "cohort_list = ['1112', '1314', '1516', '1718']\n",
    "\n",
    "# create a block dataframe\n",
    "demo_comb_df = pd.DataFrame(columns = ('SEQN', 'RIDAGEYR', 'RIDRETH3', 'DMDEDUC2', 'DMDMARTL', \\\n",
    "                               'RIDSTATR', 'SDMVPSU', 'SDMVSTRA', 'WTMEC2YR', 'WTINT2YR'))\n",
    "\n",
    "for idx in range(len(demo_df_list)):\n",
    "    df = demo_df_list[idx]\n",
    "    df_select = df.loc[:,['SEQN', 'RIDAGEYR', 'RIDRETH3', 'DMDEDUC2', 'DMDMARTL', \\\n",
    "                               'RIDSTATR', 'SDMVPSU', 'SDMVSTRA', 'WTMEC2YR', 'WTINT2YR']]\n",
    "    df_select['cohort'] = cohort_list[idx] \n",
    "    \n",
    "    demo_comb_df = pd.concat([demo_comb_df, df_select], ignore_index=True) # concatenate each cohort\n",
    "\n",
    "demo_comb_df = demo_comb_df.rename(columns={'SEQN': 'unique_ids', 'RIDAGEYR':'age', 'RIDRETH3':'race_and_ethnicity', \\\n",
    "                        'DMDEDUC2':'education', 'DMDMARTL':'marital_status'})\n",
    "demo_comb_df= demo_comb_df.convert_dtypes() # Convert the DataFrame to use best possible dtypes.\n",
    "demo_comb_df.to_pickle(\"demo_comb_df.pkl\")"
   ]
  },
  {
   "cell_type": "code",
   "execution_count": 3,
   "id": "687c6235",
   "metadata": {},
   "outputs": [
    {
     "name": "stderr",
     "output_type": "stream",
     "text": [
      "C:\\Users\\wwwsi\\.conda\\envs\\stats507\\lib\\site-packages\\pandas\\io\\sas\\sas_xport.py:475: PerformanceWarning: DataFrame is highly fragmented.  This is usually the result of calling `frame.insert` many times, which has poor performance.  Consider joining all columns at once using pd.concat(axis=1) instead.  To get a de-fragmented frame, use `newframe = frame.copy()`\n",
      "  df[x] = v\n"
     ]
    }
   ],
   "source": [
    "# ================\n",
    "# b)\n",
    "oral_1112_df = pd.read_sas(\"https://wwwn.cdc.gov/Nchs/Nhanes/2011-2012/OHXDEN_G.XPT\")\n",
    "oral_1314_df = pd.read_sas(\"https://wwwn.cdc.gov/Nchs/Nhanes/2013-2014/OHXDEN_H.XPT\")\n",
    "oral_1516_df = pd.read_sas(\"https://wwwn.cdc.gov/Nchs/Nhanes/2015-2016/OHXDEN_I.XPT\")\n",
    "oral_1718_df = pd.read_sas(\"https://wwwn.cdc.gov/Nchs/Nhanes/2017-2018/OHXDEN_J.XPT\")\n",
    "\n",
    "oral_df_list = [oral_1112_df, oral_1314_df, oral_1516_df, oral_1718_df]\n",
    "cohort_list = ['1112', '1314', '1516', '1718']\n",
    "\n",
    "# create a block dataframe\n",
    "TC_list = []\n",
    "dictionary = {}\n",
    "\n",
    "for col in oral_1112_df.columns:\n",
    "    if 'TC' in col:\n",
    "        TC_list.append(col)\n",
    "TC_list  # find all the column name has 'TC' and 'CTC'\n",
    "oral_comb_df = pd.DataFrame(columns = ['SEQN', 'OHDDESTS'] + TC_list )\n",
    "\n",
    "# concatenate four modified dataframes\n",
    "for idx in range(len(oral_df_list)):\n",
    "    df = oral_df_list[idx]\n",
    "    df_select = df.loc[:, ['SEQN' , 'OHDDESTS'] + TC_list] \n",
    "    df_select['cohort'] = cohort_list[idx] \n",
    "    oral_comb_df = pd.concat([oral_comb_df, df_select], ignore_index=True) # concatenate each cohort\n",
    "\n",
    "# Rename the columns with literate variable names\n",
    "for col in TC_list:\n",
    "    num_str = re.findall(\"\\d+\",col)[0]  # find the digit in string\n",
    "    if 'CTC' in col:\n",
    "        dictionary.update({col:\"coronal_cavities_\"+num_str})\n",
    "    else:\n",
    "        dictionary.update({col:\"tooth_counts_\"+num_str})\n",
    "oral_comb_df = oral_comb_df.rename(columns=dictionary)\n",
    "\n",
    "# Convert the DataFrame to use best possible dtypes.\n",
    "oral_comb_df= oral_comb_df.convert_dtypes() \n",
    "# Save the resulting data frame to picle\n",
    "oral_comb_df.to_pickle(\"oral_comb_df.pkl\")"
   ]
  },
  {
   "cell_type": "code",
   "execution_count": 4,
   "id": "ca627aad",
   "metadata": {},
   "outputs": [
    {
     "name": "stdout",
     "output_type": "stream",
     "text": [
      "the number of cases in the demographic final dataframe is 39156\n",
      "the number of cases in the oral health and dentition data final dataframe is 35909\n"
     ]
    }
   ],
   "source": [
    "# ================\n",
    "# c) report the number of cases there are in the two datasets above.\n",
    "num_of_case_demo = len(demo_comb_df)\n",
    "num_of_case_oral = len(oral_comb_df)\n",
    "print(\"the number of cases in the demographic final dataframe is %d\"%(num_of_case_demo))\n",
    "print(\"the number of cases in the oral health and dentition data final dataframe is %d\"%(num_of_case_oral))"
   ]
  },
  {
   "cell_type": "code",
   "execution_count": null,
   "id": "58e544b1",
   "metadata": {},
   "outputs": [],
   "source": []
  },
  {
   "cell_type": "code",
   "execution_count": null,
   "id": "4c0f39a9",
   "metadata": {},
   "outputs": [],
   "source": []
  }
 ],
 "metadata": {
  "jupytext": {
   "formats": "ipynb,auto:light"
  },
  "kernelspec": {
   "display_name": "Python 3 (ipykernel)",
   "language": "python",
   "name": "python3"
  },
  "language_info": {
   "codemirror_mode": {
    "name": "ipython",
    "version": 3
   },
   "file_extension": ".py",
   "mimetype": "text/x-python",
   "name": "python",
   "nbconvert_exporter": "python",
   "pygments_lexer": "ipython3",
   "version": "3.9.6"
  }
 },
 "nbformat": 4,
 "nbformat_minor": 5
}
