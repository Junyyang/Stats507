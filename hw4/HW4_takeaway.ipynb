{
 "cells": [
  {
   "cell_type": "markdown",
   "id": "cdf13ee2",
   "metadata": {},
   "source": [
    "## Takeaway 1\n",
    "- `np.logical_or`\n",
    "- ```Python\n",
    "merge_demo_oral['ohx'] = np.logical_and(\n",
    "    merge_demo_oral['ohx_status'] == 'Complete', \n",
    "    merge_demo_oral['exam_status'] == 'Both interviewed and MEC examined'\n",
    ")\n",
    "```\n",
    "- If x in tuple change to True, otherwise false\n",
    "- Replace method: \n",
    "`df['education'].apply(lambda x: x in college).replace({np.nan: False}),`\n",
    "- how to add column between columns:\n",
    "```Python\n",
    "cols = ['id', 'gender', 'age', 'under_20', 'college', 'exam_status', 'ohx']\n",
    "df = df[cols]\n",
    "```\n",
    "- Transpose the Dataframe by `df.transpose()`\n",
    "- check out the induplicate Category of \n",
    "```Python\n",
    "for v in tab.columns.categories:\n",
    "    print(v)\n",
    "```"
   ]
  },
  {
   "cell_type": "markdown",
   "id": "a5b706ea",
   "metadata": {},
   "source": [
    "## Takeaway 2\n",
    "- `np.where(df['ohx'] == 'Complete') ` return the index of df where the ohx columns == 'Complete'\n",
    "- `df['age'].values[index_array]` "
   ]
  },
  {
   "cell_type": "markdown",
   "id": "9b957629",
   "metadata": {},
   "source": [
    "## Takeaway 3\n",
    "- `ttest_ind` : Calculate the T-test for the means of two independent samples of scores.\n",
    "  returns `Ttest_indResult(statistic=_, pvalue=_)`"
   ]
  },
  {
   "cell_type": "markdown",
   "id": "1724e58c",
   "metadata": {},
   "source": [
    "## Takeaway 4\n",
    "- combine columns by `est_ratios.join(bse) `\n",
    " `pd.merge`"
   ]
  },
  {
   "cell_type": "code",
   "execution_count": null,
   "id": "99be5e56",
   "metadata": {},
   "outputs": [],
   "source": []
  },
  {
   "cell_type": "code",
   "execution_count": null,
   "id": "743ab326",
   "metadata": {},
   "outputs": [],
   "source": []
  }
 ],
 "metadata": {
  "kernelspec": {
   "display_name": "Python 3 (ipykernel)",
   "language": "python",
   "name": "python3"
  },
  "language_info": {
   "codemirror_mode": {
    "name": "ipython",
    "version": 3
   },
   "file_extension": ".py",
   "mimetype": "text/x-python",
   "name": "python",
   "nbconvert_exporter": "python",
   "pygments_lexer": "ipython3",
   "version": "3.9.6"
  }
 },
 "nbformat": 4,
 "nbformat_minor": 5
}
